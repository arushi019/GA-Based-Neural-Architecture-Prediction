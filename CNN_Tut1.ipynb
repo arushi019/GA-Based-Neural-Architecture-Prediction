{
  "nbformat": 4,
  "nbformat_minor": 0,
  "metadata": {
    "colab": {
      "name": "CNN-Tut1.ipynb",
      "version": "0.3.2",
      "provenance": [],
      "include_colab_link": true
    },
    "kernelspec": {
      "name": "python3",
      "display_name": "Python 3"
    }
  },
  "cells": [
    {
      "cell_type": "markdown",
      "metadata": {
        "id": "view-in-github",
        "colab_type": "text"
      },
      "source": [
        "<a href=\"https://colab.research.google.com/github/arushi019/GA-Based-Neural-Architecture-Prediction/blob/master/CNN_Tut1.ipynb\" target=\"_parent\"><img src=\"https://colab.research.google.com/assets/colab-badge.svg\" alt=\"Open In Colab\"/></a>"
      ]
    },
    {
      "metadata": {
        "id": "Nnx9feAF8q_Q",
        "colab_type": "code",
        "colab": {}
      },
      "cell_type": "code",
      "source": [
        "import numpy as np\n",
        "import torch\n",
        "import torchvision\n",
        "import torchvision.transforms as transforms"
      ],
      "execution_count": 0,
      "outputs": []
    },
    {
      "metadata": {
        "id": "4RDp01g382HW",
        "colab_type": "code",
        "outputId": "c9e2b5fd-15f1-4ff3-f626-19e5176b15a0",
        "colab": {
          "base_uri": "https://localhost:8080/",
          "height": 34
        }
      },
      "cell_type": "code",
      "source": [
        "seed=42\n",
        "np.random.seed(42)\n",
        "torch.manual_seed(seed)"
      ],
      "execution_count": 0,
      "outputs": [
        {
          "output_type": "execute_result",
          "data": {
            "text/plain": [
              "<torch._C.Generator at 0x7fcffbc551b0>"
            ]
          },
          "metadata": {
            "tags": []
          },
          "execution_count": 2
        }
      ]
    },
    {
      "metadata": {
        "id": "vFDuFKmj88ov",
        "colab_type": "code",
        "outputId": "42ee2640-4663-4880-c590-ebb314409597",
        "colab": {
          "base_uri": "https://localhost:8080/",
          "height": 119
        }
      },
      "cell_type": "code",
      "source": [
        "#transform=transforms.Compose([transforms.ToTensor(),transforms.Normalize((0.5,0.5,0.5),(0.5,0.5,0.5))])\n",
        "transform=transforms.Compose([transforms.ToTensor()])\n",
        "train=torchvision.datasets.MNIST(root='',train=True,transform=transform,download=True)\n",
        "test=torchvision.datasets.MNIST(root='',train=False,transform=transform,download=True)"
      ],
      "execution_count": 0,
      "outputs": [
        {
          "output_type": "stream",
          "text": [
            "Downloading http://yann.lecun.com/exdb/mnist/train-images-idx3-ubyte.gz\n",
            "Downloading http://yann.lecun.com/exdb/mnist/train-labels-idx1-ubyte.gz\n",
            "Downloading http://yann.lecun.com/exdb/mnist/t10k-images-idx3-ubyte.gz\n",
            "Downloading http://yann.lecun.com/exdb/mnist/t10k-labels-idx1-ubyte.gz\n",
            "Processing...\n",
            "Done!\n"
          ],
          "name": "stdout"
        }
      ]
    },
    {
      "metadata": {
        "id": "xk2PAbHW_1WM",
        "colab_type": "code",
        "outputId": "25b36055-a415-416d-f733-8573df9ee727",
        "colab": {
          "base_uri": "https://localhost:8080/",
          "height": 289
        }
      },
      "cell_type": "code",
      "source": [
        "print(test)\n",
        "print(train)"
      ],
      "execution_count": 0,
      "outputs": [
        {
          "output_type": "stream",
          "text": [
            "Dataset MNIST\n",
            "    Number of datapoints: 10000\n",
            "    Split: test\n",
            "    Root Location: \n",
            "    Transforms (if any): Compose(\n",
            "                             ToTensor()\n",
            "                         )\n",
            "    Target Transforms (if any): None\n",
            "Dataset MNIST\n",
            "    Number of datapoints: 60000\n",
            "    Split: train\n",
            "    Root Location: \n",
            "    Transforms (if any): Compose(\n",
            "                             ToTensor()\n",
            "                         )\n",
            "    Target Transforms (if any): None\n"
          ],
          "name": "stdout"
        }
      ]
    },
    {
      "metadata": {
        "id": "TntwUWjy_4pR",
        "colab_type": "code",
        "colab": {}
      },
      "cell_type": "code",
      "source": [
        "from torch.utils.data.sampler import SubsetRandomSampler\n",
        "n_train=50000\n",
        "train_samp=SubsetRandomSampler(np.arange(n_train))\n",
        "n_val=10000\n",
        "val_samp=SubsetRandomSampler(np.arange(n_train,n_train+n_val))\n",
        "n_test=10000\n",
        "test_samp=SubsetRandomSampler(np.arange(n_test))\n"
      ],
      "execution_count": 0,
      "outputs": []
    },
    {
      "metadata": {
        "id": "YlKw7WsGBOLq",
        "colab_type": "code",
        "colab": {}
      },
      "cell_type": "code",
      "source": [
        "from torch.autograd import Variable\n",
        "import torch.nn.functional as F\n",
        "import torch.nn as nn\n",
        "class myCNN(nn.Module):\n",
        "  def __init__(self):\n",
        "    super(myCNN,self).__init__()\n",
        "    self.conv1=nn.Conv2d(1,18,kernel_size=3,stride=1,padding=1)\n",
        "    self.pool=nn.MaxPool2d(kernel_size=2,stride=2,padding=0)\n",
        "    self.fc1=nn.Linear(18*14*14,64)\n",
        "    self.fc2=nn.Linear(64,10)\n",
        "  def forward(self,x):\n",
        "    x=F.relu(self.conv1(x))\n",
        "    x=self.pool(x)\n",
        "    x=x.view(-1,18*14*14)\n",
        "    x=F.relu(self.fc1(x))\n",
        "    x=self.fc2(x)\n",
        "    return x"
      ],
      "execution_count": 0,
      "outputs": []
    },
    {
      "metadata": {
        "id": "kIQG_Fxy1FiX",
        "colab_type": "code",
        "colab": {}
      },
      "cell_type": "code",
      "source": [
        "class customCNN(nn.Sequential):\n",
        "  #                                               k x s x s         \n",
        "  #block 1: conv2d+avgPool                       6 x s/2 x s/2            \n",
        "  #block 2: conv2d+avgPool+dropOut               7 x s/2 x s/2            \n",
        "  #block 3: reshape+linear+reshape               (1,k*s*s)->64->(1*32*32)\n",
        "  #block 4: reshape+linear+dropOut+reshape       (1,k*s*s)->64->(1*32*32)\n",
        "  #reshape+linear layer                          (1,k*s*s)->10\n",
        "  def block1(k,s):\n",
        "    l1=nn.Conv2d(k,6,kernel_size=3,stride=1)\n",
        "    l2=nn.AvgPool2d(kernel_size=2,stride=2)\n",
        "    return ([l1,l2],6,s/2)\n",
        "  def block2(k,s):\n",
        "    l1=nn.Conv2d(k,7,kernel_size=3,stride=1)\n",
        "    l2=nn.AvgPool2d(kernel_size=2,stride=2)\n",
        "    l3=nn.Dropout(p=0.5)\n",
        "    return ([l1,l2,l3],7,s/2)\n",
        "  def block3(k,s):\n",
        "    #reshape in forward function\n",
        "    l1=nn.Linear(k*s*s,64)\n",
        "    #reshape \n",
        "    return ([l1],1,32)\n",
        "  def block4(k,s):\n",
        "    #reshape\n",
        "    l1=nn.Linear(k*s*s,64)\n",
        "    l2=nn.Dropout(p=0.4)\n",
        "    #reshape\n",
        "    return ([l1,l2],1,32)\n",
        "  def __init__(self):\n",
        "    super(customCNN,self).__init__()\n",
        "    self.v=[0,0]\n",
        "    self.v[0]=np.random.randint(1,5)\n",
        "    self.v[1]=np.random.randint(1,5)\n",
        "    self.layers=[]\n",
        "    k=1\n",
        "    s=28\n",
        "    for i in range(2):\n",
        "      val=0\n",
        "      if self.v[i]==1:\n",
        "        val=block1(k,s)\n",
        "      if self.v[i]==2:\n",
        "        val=block2(k,s)\n",
        "      if self.v[i]==3:\n",
        "        val=block3(k,s)\n",
        "      if self.v[i]==4:\n",
        "        val=block4(k,s)\n",
        "      k=val[1]\n",
        "      s=val[2]\n",
        "      for j in range(len(val[0])):\n",
        "        self.layers.append(val[0][j])\n",
        "    self.layers=nn.ModuleList(self.layers)"
      ],
      "execution_count": 0,
      "outputs": []
    }
  ]
}